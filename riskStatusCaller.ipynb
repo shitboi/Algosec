{
 "cells": [
  {
   "cell_type": "code",
   "execution_count": 14,
   "metadata": {},
   "outputs": [],
   "source": [
    "from riskStatusReport import main\n",
    "#You may enter specific email address parameter\n",
    "# main(receiver=None,critical_only=False)\n",
    "\n",
    "# main()\n",
    "\n",
    "\n",
    "with open('config.py', 'r') as f:\n",
    "    data = [i.split('=')[0]+'=\"\"' for i in f.readlines()]\n",
    "\n",
    "with open('config1.py', 'a') as f:\n",
    "    for i in data:\n",
    "        f.write(i+\"\\n\")\n",
    "    "
   ]
  }
 ],
 "metadata": {
  "kernelspec": {
   "display_name": "Python 3",
   "language": "python",
   "name": "python3"
  },
  "language_info": {
   "codemirror_mode": {
    "name": "ipython",
    "version": 3
   },
   "file_extension": ".py",
   "mimetype": "text/x-python",
   "name": "python",
   "nbconvert_exporter": "python",
   "pygments_lexer": "ipython3",
   "version": "3.8.3"
  }
 },
 "nbformat": 4,
 "nbformat_minor": 4
}
